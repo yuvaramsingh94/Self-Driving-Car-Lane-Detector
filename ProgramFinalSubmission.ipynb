{
 "cells": [
  {
   "cell_type": "code",
   "execution_count": 12,
   "metadata": {
    "collapsed": true,
    "deletable": true,
    "editable": true
   },
   "outputs": [],
   "source": [
    "#Lane finding program"
   ]
  },
  {
   "cell_type": "code",
   "execution_count": 13,
   "metadata": {
    "collapsed": true,
    "deletable": true,
    "editable": true
   },
   "outputs": [],
   "source": [
    "from moviepy.editor import VideoFileClip\n",
    "from IPython.display import HTML"
   ]
  },
  {
   "cell_type": "code",
   "execution_count": 14,
   "metadata": {
    "collapsed": true,
    "deletable": true,
    "editable": true
   },
   "outputs": [],
   "source": [
    "import matplotlib.pyplot as plt\n",
    "import matplotlib.image as mpimg\n",
    "import numpy as np\n",
    "import cv2\n",
    "%matplotlib inline"
   ]
  },
  {
   "cell_type": "code",
   "execution_count": 15,
   "metadata": {
    "collapsed": true,
    "deletable": true,
    "editable": true
   },
   "outputs": [],
   "source": [
    "# Performs simple linear regression on a set of lines.\n",
    "def lines_linreg(lines_array):\n",
    "    x = np.reshape(lines_array[:, [0, 2]], (1, len(lines_array) * 2))[0]\n",
    "    y = np.reshape(lines_array[:, [1, 3]], (1, len(lines_array) * 2))[0]\n",
    "    #print (\"this is  the shape of x: \",x.shape)\n",
    "    A = np.vstack([x, np.ones(len(x))]).T\n",
    "    m, c = np.linalg.lstsq(A, y)[0]\n",
    "    x = np.array(x)\n",
    "    y = np.array(x * m + c)\n",
    "    return x, y, m, c"
   ]
  },
  {
   "cell_type": "code",
   "execution_count": 16,
   "metadata": {
    "collapsed": true,
    "deletable": true,
    "editable": true
   },
   "outputs": [],
   "source": [
    "# Takes an array of lines and gives back lines which have a valid slope, given a range.\n",
    "def slope_filter(lines_array, positive, min_slope, max_slope):\n",
    "    '''\n",
    "    np.apply_along_axis is a function which is use to apply the supplied function to the axis specified\n",
    "    here we supply a function (lambda slop: (slope[3] - slope[1]) / (slope[2] - slope[0]) which is going to calculate the \n",
    "    slope of a line at a time and store it in slopes \n",
    "    \n",
    "    if positive is true :\n",
    "    it calculates the right side lane slope\n",
    "    if positive is false :\n",
    "    it calculates the leftside lane slope\n",
    "    \n",
    "    after calculating the slopes . it return the value of slope which \n",
    "    '''\n",
    "    slopes = np.apply_along_axis(lambda slope: (slope[3] - slope[1]) / (slope[2] - slope[0]), 2, lines_array)\n",
    "\n",
    "    \n",
    "    if positive:\n",
    "        slopes[slopes > max_slope] = 0\n",
    "        slopes[slopes < min_slope] = 0\n",
    "        lines_array =np.array(lines_array[np.where(slopes > 0)])\n",
    "    else:\n",
    "        slopes[slopes < -max_slope] = 0\n",
    "        slopes[slopes > -min_slope] = 0\n",
    "        lines_array = np.array(lines_array[np.where(slopes < 0)])\n",
    "\n",
    "    #print (\"the shape of the slope\",lines_array.shape)\n",
    "    return lines_array"
   ]
  },
  {
   "cell_type": "code",
   "execution_count": 17,
   "metadata": {
    "collapsed": false,
    "deletable": true,
    "editable": true
   },
   "outputs": [],
   "source": [
    "'''\n",
    "#helper functions\n",
    "import math\n",
    "\n",
    "def grayscale(img):\n",
    "    \n",
    "    return cv2.cvtColor(img, cv2.COLOR_RGB2GRAY)\n",
    "    \n",
    "    \n",
    "def canny(img, low_threshold, high_threshold): # use this function to find the edges in the input image frame\n",
    "    \n",
    "    return cv2.Canny(img, low_threshold, high_threshold)\n",
    "\n",
    "def gaussian_blur(img, kernel_size):# to smooth and blur the image to remove noices and get fine lines \n",
    "    \n",
    "    return cv2.GaussianBlur(img, (kernel_size, kernel_size), 0)\n",
    "\n",
    "def region_of_interest(img, vertices):# to bitwise add the region of interest to the input stream of data\n",
    "    \n",
    "    mask = np.zeros_like(img)   \n",
    "    \n",
    "    #defining a 3 channel or 1 channel color to fill the mask with depending on the input image\n",
    "    if len(img.shape) > 2:\n",
    "        channel_count = img.shape[2]  # i.e. 3 or 4 depending on your image\n",
    "        ignore_mask_color = (255,) * channel_count\n",
    "    else:\n",
    "        ignore_mask_color = 255\n",
    "        \n",
    "    #filling pixels inside the polygon defined by \"vertices\" with the fill color    \n",
    "    cv2.fillPoly(mask, vertices, ignore_mask_color)\n",
    "    \n",
    "    #returning the image only where mask pixels are nonzero\n",
    "    masked_image = cv2.bitwise_and(img, mask)\n",
    "    return masked_image\n",
    "\n",
    "'''\n",
    "#helper functions\n",
    "import math\n",
    "\n",
    "def grayscale(img):# use this function to convert the BGR image to grayscale  image\n",
    "    \n",
    "    return cv2.cvtColor(img, cv2.COLOR_RGB2GRAY)\n",
    "    \n",
    "    \n",
    "def canny(img, low_threshold, high_threshold):\n",
    "    \"\"\"Applies the Canny transform\"\"\"\n",
    "    return cv2.Canny(img, low_threshold, high_threshold)\n",
    "\n",
    "def gaussian_blur(img, kernel_size):\n",
    "    \"\"\"Applies a Gaussian Noise kernel\"\"\"\n",
    "    return cv2.GaussianBlur(img, (kernel_size, kernel_size), 0)\n",
    "\n",
    "def region_of_interest(img, vertices):\n",
    "    \"\"\"\n",
    "    Applies an image mask.\n",
    "    \n",
    "    Only keeps the region of the image defined by the polygon\n",
    "    formed from `vertices`. The rest of the image is set to black.\n",
    "    \"\"\"\n",
    "    #defining a blank mask to start with\n",
    "    mask = np.zeros_like(img)   \n",
    "    \n",
    "    #defining a 3 channel or 1 channel color to fill the mask with depending on the input image\n",
    "    if len(img.shape) > 2:\n",
    "        channel_count = img.shape[2]  # i.e. 3 or 4 depending on your image\n",
    "        ignore_mask_color = (255,) * channel_count\n",
    "    else:\n",
    "        ignore_mask_color = 255\n",
    "        \n",
    "    #filling pixels inside the polygon defined by \"vertices\" with the fill color    \n",
    "    cv2.fillPoly(mask, vertices, ignore_mask_color)\n",
    "    \n",
    "    #returning the image only where mask pixels are nonzero\n",
    "    masked_image = cv2.bitwise_and(img, mask)\n",
    "    return masked_image\n",
    "\n"
   ]
  },
  {
   "cell_type": "code",
   "execution_count": 18,
   "metadata": {
    "collapsed": true,
    "deletable": true,
    "editable": true
   },
   "outputs": [],
   "source": [
    "'''\n",
    "\n",
    "\n",
    "this is a replacement function of the provided weighted_img fn\n",
    "steps of work\n",
    "    1.it takes in the raw image on which you like to draw the points\n",
    "    2.top and bottom points of left and right are feed into the function\n",
    "    3.it creats a np.zero array of the same size as image provided\n",
    "    4.draw line on the blank image \n",
    "    5.do cv2.addWeighted function which adds both the image and the blank image with hough lines drawn on it along with \n",
    "    α, β, λ \n",
    "\n",
    "\n",
    "'''\n",
    "def drawWeightedImage(image,bottom_left_point,top_left_point,bottom_right_point,top_right_point):\n",
    "    \n",
    "    \n",
    "    toDraw = np.zeros_like(image)\n",
    "    \n",
    "    cv2.line(toDraw,(bottom_left_point[0],bottom_left_point[1]),(top_left_point[0],top_left_point[1]),[255,0,0],10)\n",
    "    cv2.line(toDraw,(bottom_right_point[0],bottom_right_point[1]),(top_right_point[0],top_right_point[1]),[255,0,0],10)\n",
    "        \n",
    "    return cv2.addWeighted(image, 0.8, toDraw, 1., 0.)\n",
    "\n"
   ]
  },
  {
   "cell_type": "code",
   "execution_count": 19,
   "metadata": {
    "collapsed": true,
    "deletable": true,
    "editable": true
   },
   "outputs": [],
   "source": [
    "'''\n",
    "\n",
    "the use of this function is to calcuate the bottom and top \n",
    "points of the right and left lines ,so that we can draw \n",
    "lines using this points\n",
    " \n",
    "steps of work:\n",
    "    1.it finds the top most and bottom most y point by min and max fn\n",
    "    2.create a np.array of x and y values using the formula\n",
    "        y = mx+c\n",
    "        x = (y-c)/m\n",
    "    returns the final values\n",
    "    \n",
    "'''\n",
    "def findPointsToDraw(right_y,right_c,right_m,left_y,left_c,left_m):\n",
    "    \n",
    "    #print (\"size of \\n\",\"right_y \\t\",right_y.shape,\"right_c \\t\",right_c,\"right_m \\t\",right_m)\n",
    "    min_y = np.min(right_y)# minimum y point will be the top most point\n",
    "    '''\n",
    "    the formula for line is y = mx +c\n",
    "    \n",
    "    so \n",
    "    x = (y-c)/m\n",
    "    \n",
    "    this is used to calculate the points of top and bottom and fromed into an np.array\n",
    "    '''\n",
    "    \n",
    "    \n",
    "    \n",
    "    #                           (  y    -     c  ) /     m\n",
    "    top_right_point = np.array([(min_y - right_c) / right_m, min_y], dtype=int) \n",
    "\n",
    "    max_y = np.max(right_y)\n",
    "    bottom_right_point = np.array([(max_y - right_c) / right_m, max_y], dtype=int)\n",
    "\n",
    "    #cv2.line(image, (bottom_right_point[0], bottom_right_point[1]), (top_right_point[0], top_right_point[1]), [255, 0, 0], 10)\n",
    "\n",
    "    min_y = np.min(left_y)\n",
    "    top_left_point = np.array([(min_y - left_c) / left_m, min_y], dtype=int)\n",
    "\n",
    "    max_y = np.max(left_y)\n",
    "    bottom_left_point = np.array([(max_y - left_c) / left_m, max_y], dtype=int)\n",
    "    \n",
    "    return top_right_point,bottom_right_point,top_left_point,bottom_left_point\n",
    "    "
   ]
  },
  {
   "cell_type": "code",
   "execution_count": 20,
   "metadata": {
    "collapsed": false,
    "deletable": true,
    "editable": true
   },
   "outputs": [],
   "source": [
    "\n",
    "def process_image1(image):\n",
    "    \n",
    "    \n",
    "    # convert the input image to grayscale and apply gaussian_blur to it\n",
    "    imgGray = grayscale(image)\n",
    "    kernel_size = 5\n",
    "    imgGray = gaussian_blur(imgGray, kernel_size)\n",
    "    \n",
    "    \n",
    "    # apply canny edge detection to the image and dialte the edgedetected image\n",
    "    lowerThreshold=80\n",
    "    higherThreshold=160\n",
    "    edgeImage = canny (imgGray,lowerThreshold,higherThreshold)\n",
    "    edgeImage= cv2.dilate(edgeImage, cv2.getStructuringElement(cv2.MORPH_DILATE, (5, 5)))\n",
    "    \n",
    "    # define region of interest for both right and left side\n",
    "    ratio = 5/8\n",
    "    height = image.shape[0]\n",
    "    width = image.shape[1]\n",
    "    #print (height)\n",
    "    \n",
    "    roi_left = np.array([[\n",
    "        (100, height),\n",
    "        ((1 - ratio) * width, ratio * height),\n",
    "        (.5 * width, ratio * height),\n",
    "        (.5 * width, height)\n",
    "    ]], dtype=np.int32)\n",
    "\n",
    "    roi_right = np.array([[\n",
    "        (.5 * width, height),\n",
    "        (.5 * width, ratio * height),\n",
    "        (ratio * width, ratio * height),\n",
    "        (width, height)\n",
    "    ]], dtype=np.int32)\n",
    "    \n",
    "    \n",
    "    # create a mask area\n",
    "    roiImageRight = region_of_interest(edgeImage, roi_right)\n",
    "    \n",
    "    \n",
    "    # create a mask area\n",
    "    roiImageLeft = region_of_interest(edgeImage, roi_left)\n",
    "    \n",
    "\n",
    "    \n",
    "    \n",
    "    # apply hough transform to the image wiht region of interest  masked\n",
    "    rho = 80\n",
    "    theta = 2*np.pi/180\n",
    "    threshold = 60*2*2\n",
    "    min_line_len = 1\n",
    "    max_line_gap = 10\n",
    "    try:\n",
    "        linesRight = cv2.HoughLinesP(roiImageRight, rho, theta, threshold, np.array([]), minLineLength=min_line_len, maxLineGap=max_line_gap)\n",
    "        \n",
    "        # the linesRight is of shape (:,1,4) which has x1,y1,x2,y2 \n",
    "        \n",
    "        lines_right = slope_filter(linesRight, True, .5, .9) # used to filter the points which lies between the range 0.5-0.9\n",
    "        right_x, right_y, right_m, right_c = lines_linreg(lines_right) # find the x , y values with respected to the desired m ,and c values\n",
    "        \n",
    "        \n",
    "    except :\n",
    "        pass\n",
    "    \n",
    "    # do the same thing as above but to the left side image\n",
    "    try:\n",
    "        linesLeft = cv2.HoughLinesP(roiImageLeft, rho, theta, threshold, np.array([]), minLineLength=min_line_len, maxLineGap=max_line_gap)\n",
    "        lines_left = slope_filter(linesLeft, False, 0.1, 0.9)\n",
    "        left_x, left_y, left_m, left_c = lines_linreg(lines_left)\n",
    "    except :\n",
    "        pass\n",
    "    # find the top,bottom most point to draw lines\n",
    "    try:\n",
    "        top_right_point,bottom_right_point,top_left_point,bottom_left_point = findPointsToDraw(right_y,\n",
    "                                                                                               right_c,\n",
    "                                                                                               right_m,\n",
    "                                                                                               left_y,\n",
    "                                                                                               left_c,\n",
    "                                                                                               left_m)\n",
    "        \n",
    "        # draw ines on the input image and store it to a numpy array called finalImage\n",
    "        finalImage = drawWeightedImage(image,bottom_left_point,top_left_point,bottom_right_point,top_right_point)\n",
    "    \n",
    "    \n",
    "    \n",
    "    except :# if there is a problem occurs , just return the input image so that our progrma continues to execute\n",
    "        #pass\n",
    "        return image\n",
    "    \n",
    "\n",
    "    return finalImage\n"
   ]
  },
  {
   "cell_type": "code",
   "execution_count": 21,
   "metadata": {
    "collapsed": false,
    "deletable": true,
    "editable": true
   },
   "outputs": [
    {
     "name": "stdout",
     "output_type": "stream",
     "text": [
      "[MoviePy] >>>> Building video FinalOutput.mp4\n",
      "[MoviePy] Writing video FinalOutput.mp4\n"
     ]
    },
    {
     "name": "stderr",
     "output_type": "stream",
     "text": [
      "100%|███████████████████████████████████████████████████████████████████████████████▋| 221/222 [00:14<00:00, 15.50it/s]\n"
     ]
    },
    {
     "name": "stdout",
     "output_type": "stream",
     "text": [
      "[MoviePy] Done.\n",
      "[MoviePy] >>>> Video ready: FinalOutput.mp4 \n",
      "\n",
      "Wall time: 16.2 s\n"
     ]
    }
   ],
   "source": [
    "white_output = 'FinalOutput.mp4'\n",
    "nameOfTheFile = \"solidWhiteRight.mp4\"\n",
    "clip1 = VideoFileClip(nameOfTheFile)\n",
    "white_clip = clip1.fl_image(process_image1) #NOTE: this function expects color images!!\n",
    "%time white_clip.write_videofile(white_output, audio=False)"
   ]
  },
  {
   "cell_type": "code",
   "execution_count": null,
   "metadata": {
    "collapsed": true,
    "deletable": true,
    "editable": true
   },
   "outputs": [],
   "source": []
  },
  {
   "cell_type": "code",
   "execution_count": 22,
   "metadata": {
    "collapsed": false,
    "deletable": true,
    "editable": true,
    "scrolled": true
   },
   "outputs": [
    {
     "data": {
      "text/html": [
       "\n",
       "<video width=\"960\" height=\"540\" controls>\n",
       "  <source src=\"FinalOutput.mp4\">\n",
       "</video>\n"
      ],
      "text/plain": [
       "<IPython.core.display.HTML object>"
      ]
     },
     "execution_count": 22,
     "metadata": {},
     "output_type": "execute_result"
    }
   ],
   "source": [
    "HTML(\"\"\"\n",
    "<video width=\"960\" height=\"540\" controls>\n",
    "  <source src=\"{0}\">\n",
    "</video>\n",
    "\"\"\".format(\"FinalOutput.mp4\"))"
   ]
  }
 ],
 "metadata": {
  "kernelspec": {
   "display_name": "Python 3",
   "language": "python",
   "name": "python3"
  },
  "language_info": {
   "codemirror_mode": {
    "name": "ipython",
    "version": 3
   },
   "file_extension": ".py",
   "mimetype": "text/x-python",
   "name": "python",
   "nbconvert_exporter": "python",
   "pygments_lexer": "ipython3",
   "version": "3.5.2"
  },
  "widgets": {
   "state": {},
   "version": "1.1.2"
  }
 },
 "nbformat": 4,
 "nbformat_minor": 2
}
